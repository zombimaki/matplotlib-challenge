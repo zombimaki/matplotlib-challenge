{
 "cells": [
  {
   "cell_type": "markdown",
   "metadata": {},
   "source": [
    "## Observations and Insights "
   ]
  },
  {
   "cell_type": "markdown",
   "metadata": {},
   "source": [
    "$1.$There appears to be a correlation between Weight (g) and Tumor Volume (mm3) with a correlation coefficient of 0.84 and an r-squared of 0.708856804770871. The more a mouse weighs the larger the tumor tends to be.\n",
    "<br>\n",
    "$2.$ Of the four treatment samples, Capomulin and Ramicane appear to be more succesful at treating tumors with their median final tumor volumes being significantly less than Infubinol and Ceftamin.\n",
    "<br>\n",
    "$3.$ Ketapril appears to be the least effective treatment with its mice have the highest mean and median.\n",
    "<br>\n",
    "$4.$ It would be helpful to do more analyis on the effecs of treatments by gender to see what type of correlation if any exists."
   ]
  },
  {
   "cell_type": "code",
   "execution_count": 1,
   "metadata": {
    "scrolled": true
   },
   "outputs": [
    {
     "data": {
      "text/html": [
       "<div>\n",
       "<style scoped>\n",
       "    .dataframe tbody tr th:only-of-type {\n",
       "        vertical-align: middle;\n",
       "    }\n",
       "\n",
       "    .dataframe tbody tr th {\n",
       "        vertical-align: top;\n",
       "    }\n",
       "\n",
       "    .dataframe thead th {\n",
       "        text-align: right;\n",
       "    }\n",
       "</style>\n",
       "<table border=\"1\" class=\"dataframe\">\n",
       "  <thead>\n",
       "    <tr style=\"text-align: right;\">\n",
       "      <th></th>\n",
       "      <th>Mouse ID</th>\n",
       "      <th>Drug Regimen</th>\n",
       "      <th>Sex</th>\n",
       "      <th>Age_months</th>\n",
       "      <th>Weight (g)</th>\n",
       "      <th>Timepoint</th>\n",
       "      <th>Tumor Volume (mm3)</th>\n",
       "      <th>Metastatic Sites</th>\n",
       "    </tr>\n",
       "  </thead>\n",
       "  <tbody>\n",
       "    <tr>\n",
       "      <th>0</th>\n",
       "      <td>k403</td>\n",
       "      <td>Ramicane</td>\n",
       "      <td>Male</td>\n",
       "      <td>21</td>\n",
       "      <td>16</td>\n",
       "      <td>0</td>\n",
       "      <td>45.000000</td>\n",
       "      <td>0</td>\n",
       "    </tr>\n",
       "    <tr>\n",
       "      <th>1</th>\n",
       "      <td>k403</td>\n",
       "      <td>Ramicane</td>\n",
       "      <td>Male</td>\n",
       "      <td>21</td>\n",
       "      <td>16</td>\n",
       "      <td>5</td>\n",
       "      <td>38.825898</td>\n",
       "      <td>0</td>\n",
       "    </tr>\n",
       "    <tr>\n",
       "      <th>2</th>\n",
       "      <td>k403</td>\n",
       "      <td>Ramicane</td>\n",
       "      <td>Male</td>\n",
       "      <td>21</td>\n",
       "      <td>16</td>\n",
       "      <td>10</td>\n",
       "      <td>35.014271</td>\n",
       "      <td>1</td>\n",
       "    </tr>\n",
       "    <tr>\n",
       "      <th>3</th>\n",
       "      <td>k403</td>\n",
       "      <td>Ramicane</td>\n",
       "      <td>Male</td>\n",
       "      <td>21</td>\n",
       "      <td>16</td>\n",
       "      <td>15</td>\n",
       "      <td>34.223992</td>\n",
       "      <td>1</td>\n",
       "    </tr>\n",
       "    <tr>\n",
       "      <th>4</th>\n",
       "      <td>k403</td>\n",
       "      <td>Ramicane</td>\n",
       "      <td>Male</td>\n",
       "      <td>21</td>\n",
       "      <td>16</td>\n",
       "      <td>20</td>\n",
       "      <td>32.997729</td>\n",
       "      <td>1</td>\n",
       "    </tr>\n",
       "  </tbody>\n",
       "</table>\n",
       "</div>"
      ],
      "text/plain": [
       "  Mouse ID Drug Regimen   Sex  Age_months  Weight (g)  Timepoint  \\\n",
       "0     k403     Ramicane  Male          21          16          0   \n",
       "1     k403     Ramicane  Male          21          16          5   \n",
       "2     k403     Ramicane  Male          21          16         10   \n",
       "3     k403     Ramicane  Male          21          16         15   \n",
       "4     k403     Ramicane  Male          21          16         20   \n",
       "\n",
       "   Tumor Volume (mm3)  Metastatic Sites  \n",
       "0           45.000000                 0  \n",
       "1           38.825898                 0  \n",
       "2           35.014271                 1  \n",
       "3           34.223992                 1  \n",
       "4           32.997729                 1  "
      ]
     },
     "execution_count": 1,
     "metadata": {},
     "output_type": "execute_result"
    }
   ],
   "source": [
    "# Dependencies and Setup\n",
    "import matplotlib.pyplot as plt\n",
    "import pandas as pd\n",
    "import scipy.stats as st\n",
    "import numpy as np\n",
    "from scipy.stats import linregress\n",
    "\n",
    "# Study data files\n",
    "mouse_metadata_path = \"data/Mouse_metadata.csv\"\n",
    "study_results_path = \"data/Study_results.csv\"\n",
    "\n",
    "# Read the mouse data and the study results\n",
    "mouse_metadata = pd.read_csv(mouse_metadata_path)\n",
    "study_results = pd.read_csv(study_results_path)\n",
    "\n",
    "# Combine the data into a single dataset\n",
    "\n",
    "mouse_stage_df = pd.merge(mouse_metadata, study_results, on=\"Mouse ID\")\n",
    "\n",
    "# Display the data table for preview\n",
    "mouse_stage_df.head()"
   ]
  },
  {
   "cell_type": "code",
   "execution_count": 2,
   "metadata": {},
   "outputs": [
    {
     "name": "stdout",
     "output_type": "stream",
     "text": [
      "There are 249 unique mice in the dataset.\n"
     ]
    }
   ],
   "source": [
    "# Checking the number of mice.\n",
    "nbr_of_mice = mouse_stage_df[\"Mouse ID\"].nunique()\n",
    "print(f\"There are {nbr_of_mice} unique mice in the dataset.\")"
   ]
  },
  {
   "cell_type": "code",
   "execution_count": 3,
   "metadata": {},
   "outputs": [
    {
     "name": "stdout",
     "output_type": "stream",
     "text": [
      "Mouse ID g989 has conflicting and/or duplicate records in the dataset.\n"
     ]
    }
   ],
   "source": [
    "# Getting the duplicate mice by ID number that shows up for Mouse ID and Timepoint. \n",
    "\n",
    "# create a df of the duplicate combination of mouse id and timepoint\n",
    "stage_duplicate_df =  mouse_stage_df[mouse_stage_df.duplicated([\"Mouse ID\", \"Timepoint\"])]\n",
    "\n",
    "# create numpy array of the deduped mouse ids\n",
    "stage_duplicate_mice  = np.unique(stage_duplicate_df[\"Mouse ID\"].values)\n",
    "\n",
    "# print out all duplicate mouse ids\n",
    "if len(stage_duplicate_mice) == 0:\n",
    "    print(\"There are no mice with conflicting and/or duplicate records in the dataset.\")\n",
    "else:\n",
    "    for mouse in stage_duplicate_mice:\n",
    "        print(f\"Mouse ID {mouse} has conflicting and/or duplicate records in the dataset.\")"
   ]
  },
  {
   "cell_type": "code",
   "execution_count": 4,
   "metadata": {
    "scrolled": true
   },
   "outputs": [
    {
     "data": {
      "text/html": [
       "<div>\n",
       "<style scoped>\n",
       "    .dataframe tbody tr th:only-of-type {\n",
       "        vertical-align: middle;\n",
       "    }\n",
       "\n",
       "    .dataframe tbody tr th {\n",
       "        vertical-align: top;\n",
       "    }\n",
       "\n",
       "    .dataframe thead th {\n",
       "        text-align: right;\n",
       "    }\n",
       "</style>\n",
       "<table border=\"1\" class=\"dataframe\">\n",
       "  <thead>\n",
       "    <tr style=\"text-align: right;\">\n",
       "      <th></th>\n",
       "      <th>Mouse ID</th>\n",
       "      <th>Drug Regimen</th>\n",
       "      <th>Sex</th>\n",
       "      <th>Age_months</th>\n",
       "      <th>Weight (g)</th>\n",
       "      <th>Timepoint</th>\n",
       "      <th>Tumor Volume (mm3)</th>\n",
       "      <th>Metastatic Sites</th>\n",
       "    </tr>\n",
       "  </thead>\n",
       "  <tbody>\n",
       "    <tr>\n",
       "      <th>908</th>\n",
       "      <td>g989</td>\n",
       "      <td>Propriva</td>\n",
       "      <td>Female</td>\n",
       "      <td>21</td>\n",
       "      <td>26</td>\n",
       "      <td>0</td>\n",
       "      <td>45.000000</td>\n",
       "      <td>0</td>\n",
       "    </tr>\n",
       "    <tr>\n",
       "      <th>909</th>\n",
       "      <td>g989</td>\n",
       "      <td>Propriva</td>\n",
       "      <td>Female</td>\n",
       "      <td>21</td>\n",
       "      <td>26</td>\n",
       "      <td>0</td>\n",
       "      <td>45.000000</td>\n",
       "      <td>0</td>\n",
       "    </tr>\n",
       "    <tr>\n",
       "      <th>910</th>\n",
       "      <td>g989</td>\n",
       "      <td>Propriva</td>\n",
       "      <td>Female</td>\n",
       "      <td>21</td>\n",
       "      <td>26</td>\n",
       "      <td>5</td>\n",
       "      <td>48.786801</td>\n",
       "      <td>0</td>\n",
       "    </tr>\n",
       "    <tr>\n",
       "      <th>911</th>\n",
       "      <td>g989</td>\n",
       "      <td>Propriva</td>\n",
       "      <td>Female</td>\n",
       "      <td>21</td>\n",
       "      <td>26</td>\n",
       "      <td>5</td>\n",
       "      <td>47.570392</td>\n",
       "      <td>0</td>\n",
       "    </tr>\n",
       "    <tr>\n",
       "      <th>912</th>\n",
       "      <td>g989</td>\n",
       "      <td>Propriva</td>\n",
       "      <td>Female</td>\n",
       "      <td>21</td>\n",
       "      <td>26</td>\n",
       "      <td>10</td>\n",
       "      <td>51.745156</td>\n",
       "      <td>0</td>\n",
       "    </tr>\n",
       "    <tr>\n",
       "      <th>913</th>\n",
       "      <td>g989</td>\n",
       "      <td>Propriva</td>\n",
       "      <td>Female</td>\n",
       "      <td>21</td>\n",
       "      <td>26</td>\n",
       "      <td>10</td>\n",
       "      <td>49.880528</td>\n",
       "      <td>0</td>\n",
       "    </tr>\n",
       "    <tr>\n",
       "      <th>914</th>\n",
       "      <td>g989</td>\n",
       "      <td>Propriva</td>\n",
       "      <td>Female</td>\n",
       "      <td>21</td>\n",
       "      <td>26</td>\n",
       "      <td>15</td>\n",
       "      <td>51.325852</td>\n",
       "      <td>1</td>\n",
       "    </tr>\n",
       "    <tr>\n",
       "      <th>915</th>\n",
       "      <td>g989</td>\n",
       "      <td>Propriva</td>\n",
       "      <td>Female</td>\n",
       "      <td>21</td>\n",
       "      <td>26</td>\n",
       "      <td>15</td>\n",
       "      <td>53.442020</td>\n",
       "      <td>0</td>\n",
       "    </tr>\n",
       "    <tr>\n",
       "      <th>916</th>\n",
       "      <td>g989</td>\n",
       "      <td>Propriva</td>\n",
       "      <td>Female</td>\n",
       "      <td>21</td>\n",
       "      <td>26</td>\n",
       "      <td>20</td>\n",
       "      <td>55.326122</td>\n",
       "      <td>1</td>\n",
       "    </tr>\n",
       "    <tr>\n",
       "      <th>917</th>\n",
       "      <td>g989</td>\n",
       "      <td>Propriva</td>\n",
       "      <td>Female</td>\n",
       "      <td>21</td>\n",
       "      <td>26</td>\n",
       "      <td>20</td>\n",
       "      <td>54.657650</td>\n",
       "      <td>1</td>\n",
       "    </tr>\n",
       "    <tr>\n",
       "      <th>918</th>\n",
       "      <td>g989</td>\n",
       "      <td>Propriva</td>\n",
       "      <td>Female</td>\n",
       "      <td>21</td>\n",
       "      <td>26</td>\n",
       "      <td>25</td>\n",
       "      <td>56.045564</td>\n",
       "      <td>1</td>\n",
       "    </tr>\n",
       "    <tr>\n",
       "      <th>919</th>\n",
       "      <td>g989</td>\n",
       "      <td>Propriva</td>\n",
       "      <td>Female</td>\n",
       "      <td>21</td>\n",
       "      <td>26</td>\n",
       "      <td>30</td>\n",
       "      <td>59.082294</td>\n",
       "      <td>1</td>\n",
       "    </tr>\n",
       "    <tr>\n",
       "      <th>920</th>\n",
       "      <td>g989</td>\n",
       "      <td>Propriva</td>\n",
       "      <td>Female</td>\n",
       "      <td>21</td>\n",
       "      <td>26</td>\n",
       "      <td>35</td>\n",
       "      <td>62.570880</td>\n",
       "      <td>2</td>\n",
       "    </tr>\n",
       "  </tbody>\n",
       "</table>\n",
       "</div>"
      ],
      "text/plain": [
       "    Mouse ID Drug Regimen     Sex  Age_months  Weight (g)  Timepoint  \\\n",
       "908     g989     Propriva  Female          21          26          0   \n",
       "909     g989     Propriva  Female          21          26          0   \n",
       "910     g989     Propriva  Female          21          26          5   \n",
       "911     g989     Propriva  Female          21          26          5   \n",
       "912     g989     Propriva  Female          21          26         10   \n",
       "913     g989     Propriva  Female          21          26         10   \n",
       "914     g989     Propriva  Female          21          26         15   \n",
       "915     g989     Propriva  Female          21          26         15   \n",
       "916     g989     Propriva  Female          21          26         20   \n",
       "917     g989     Propriva  Female          21          26         20   \n",
       "918     g989     Propriva  Female          21          26         25   \n",
       "919     g989     Propriva  Female          21          26         30   \n",
       "920     g989     Propriva  Female          21          26         35   \n",
       "\n",
       "     Tumor Volume (mm3)  Metastatic Sites  \n",
       "908           45.000000                 0  \n",
       "909           45.000000                 0  \n",
       "910           48.786801                 0  \n",
       "911           47.570392                 0  \n",
       "912           51.745156                 0  \n",
       "913           49.880528                 0  \n",
       "914           51.325852                 1  \n",
       "915           53.442020                 0  \n",
       "916           55.326122                 1  \n",
       "917           54.657650                 1  \n",
       "918           56.045564                 1  \n",
       "919           59.082294                 1  \n",
       "920           62.570880                 2  "
      ]
     },
     "execution_count": 4,
     "metadata": {},
     "output_type": "execute_result"
    }
   ],
   "source": [
    "# Optional: Get all the data for the duplicate mouse ID. \n",
    "for mouse in stage_duplicate_mice:\n",
    "    all_stage_duplicates_df = mouse_stage_df.loc[mouse_stage_df['Mouse ID'] == mouse] \n",
    "    \n",
    "all_stage_duplicates_df"
   ]
  },
  {
   "cell_type": "code",
   "execution_count": 5,
   "metadata": {},
   "outputs": [
    {
     "name": "stdout",
     "output_type": "stream",
     "text": [
      "There are no mice with conflicting and/or duplicate records in the dataset.\n"
     ]
    }
   ],
   "source": [
    "# Create a clean DataFrame by dropping the duplicate mouse by its ID.\n",
    "mouse_study_df = mouse_stage_df.copy()\n",
    "\n",
    "for i ,row in all_stage_duplicates_df.iterrows():\n",
    "   mouse_study_df = mouse_study_df.drop(i) \n",
    "\n",
    "# create a df of the duplicate combination of mouse id and timepoint\n",
    "study_duplicate_df =  mouse_study_df[mouse_study_df.duplicated([\"Mouse ID\", \"Timepoint\"])]\n",
    "\n",
    "# create numpy array of the deduped mouse ids\n",
    "study_duplicate_mice  = np.unique(study_duplicate_df[\"Mouse ID\"].values)\n",
    "\n",
    "# print out all duplicate mouse ids\n",
    "if len(study_duplicate_mice) == 0:\n",
    "    print(\"There are no mice with conflicting and/or duplicate records in the dataset.\")\n",
    "else:\n",
    "    for mouse in study_duplicate_mice:\n",
    "        print(f\"Mouse ID {mouse} has conflicting and/or duplicate records in the dataset.\")"
   ]
  },
  {
   "cell_type": "code",
   "execution_count": 6,
   "metadata": {},
   "outputs": [
    {
     "name": "stdout",
     "output_type": "stream",
     "text": [
      "There are 248 unique mice in the cleaned dataset.\n"
     ]
    }
   ],
   "source": [
    "# Checking the number of mice in the clean DataFrame.\n",
    "nbr_of_mice_cleaned = mouse_study_df[\"Mouse ID\"].nunique()\n",
    "print(f\"There are {nbr_of_mice_cleaned} unique mice in the cleaned dataset.\")"
   ]
  },
  {
   "cell_type": "markdown",
   "metadata": {},
   "source": [
    "## Summary Statistics"
   ]
  },
  {
   "cell_type": "code",
   "execution_count": 7,
   "metadata": {},
   "outputs": [
    {
     "data": {
      "text/html": [
       "<div>\n",
       "<style scoped>\n",
       "    .dataframe tbody tr th:only-of-type {\n",
       "        vertical-align: middle;\n",
       "    }\n",
       "\n",
       "    .dataframe tbody tr th {\n",
       "        vertical-align: top;\n",
       "    }\n",
       "\n",
       "    .dataframe thead th {\n",
       "        text-align: right;\n",
       "    }\n",
       "</style>\n",
       "<table border=\"1\" class=\"dataframe\">\n",
       "  <thead>\n",
       "    <tr style=\"text-align: right;\">\n",
       "      <th></th>\n",
       "      <th>Tumor Volume (mm3) Mean</th>\n",
       "      <th>Tumor Volume (mm3) Median</th>\n",
       "      <th>Tumor Volume (mm3) Variance</th>\n",
       "      <th>Tumor Volume (mm3) Std Dev</th>\n",
       "      <th>Tumor Volume (mm3) SEM</th>\n",
       "    </tr>\n",
       "    <tr>\n",
       "      <th>Drug Regimen</th>\n",
       "      <th></th>\n",
       "      <th></th>\n",
       "      <th></th>\n",
       "      <th></th>\n",
       "      <th></th>\n",
       "    </tr>\n",
       "  </thead>\n",
       "  <tbody>\n",
       "    <tr>\n",
       "      <th>Capomulin</th>\n",
       "      <td>40.675741</td>\n",
       "      <td>41.557809</td>\n",
       "      <td>24.947764</td>\n",
       "      <td>4.994774</td>\n",
       "      <td>0.329346</td>\n",
       "    </tr>\n",
       "    <tr>\n",
       "      <th>Ceftamin</th>\n",
       "      <td>52.591172</td>\n",
       "      <td>51.776157</td>\n",
       "      <td>39.290177</td>\n",
       "      <td>6.268188</td>\n",
       "      <td>0.469821</td>\n",
       "    </tr>\n",
       "    <tr>\n",
       "      <th>Infubinol</th>\n",
       "      <td>52.884795</td>\n",
       "      <td>51.820584</td>\n",
       "      <td>43.128684</td>\n",
       "      <td>6.567243</td>\n",
       "      <td>0.492236</td>\n",
       "    </tr>\n",
       "    <tr>\n",
       "      <th>Ketapril</th>\n",
       "      <td>55.235638</td>\n",
       "      <td>53.698743</td>\n",
       "      <td>68.553577</td>\n",
       "      <td>8.279709</td>\n",
       "      <td>0.603860</td>\n",
       "    </tr>\n",
       "    <tr>\n",
       "      <th>Naftisol</th>\n",
       "      <td>54.331565</td>\n",
       "      <td>52.509285</td>\n",
       "      <td>66.173479</td>\n",
       "      <td>8.134708</td>\n",
       "      <td>0.596466</td>\n",
       "    </tr>\n",
       "    <tr>\n",
       "      <th>Placebo</th>\n",
       "      <td>54.033581</td>\n",
       "      <td>52.288934</td>\n",
       "      <td>61.168083</td>\n",
       "      <td>7.821003</td>\n",
       "      <td>0.581331</td>\n",
       "    </tr>\n",
       "    <tr>\n",
       "      <th>Propriva</th>\n",
       "      <td>52.320930</td>\n",
       "      <td>50.446266</td>\n",
       "      <td>43.852013</td>\n",
       "      <td>6.622085</td>\n",
       "      <td>0.544332</td>\n",
       "    </tr>\n",
       "    <tr>\n",
       "      <th>Ramicane</th>\n",
       "      <td>40.216745</td>\n",
       "      <td>40.673236</td>\n",
       "      <td>23.486704</td>\n",
       "      <td>4.846308</td>\n",
       "      <td>0.320955</td>\n",
       "    </tr>\n",
       "    <tr>\n",
       "      <th>Stelasyn</th>\n",
       "      <td>54.233149</td>\n",
       "      <td>52.431737</td>\n",
       "      <td>59.450562</td>\n",
       "      <td>7.710419</td>\n",
       "      <td>0.573111</td>\n",
       "    </tr>\n",
       "    <tr>\n",
       "      <th>Zoniferol</th>\n",
       "      <td>53.236507</td>\n",
       "      <td>51.818479</td>\n",
       "      <td>48.533355</td>\n",
       "      <td>6.966589</td>\n",
       "      <td>0.516398</td>\n",
       "    </tr>\n",
       "  </tbody>\n",
       "</table>\n",
       "</div>"
      ],
      "text/plain": [
       "              Tumor Volume (mm3) Mean  Tumor Volume (mm3) Median  \\\n",
       "Drug Regimen                                                       \n",
       "Capomulin                   40.675741                  41.557809   \n",
       "Ceftamin                    52.591172                  51.776157   \n",
       "Infubinol                   52.884795                  51.820584   \n",
       "Ketapril                    55.235638                  53.698743   \n",
       "Naftisol                    54.331565                  52.509285   \n",
       "Placebo                     54.033581                  52.288934   \n",
       "Propriva                    52.320930                  50.446266   \n",
       "Ramicane                    40.216745                  40.673236   \n",
       "Stelasyn                    54.233149                  52.431737   \n",
       "Zoniferol                   53.236507                  51.818479   \n",
       "\n",
       "              Tumor Volume (mm3) Variance  Tumor Volume (mm3) Std Dev  \\\n",
       "Drug Regimen                                                            \n",
       "Capomulin                       24.947764                    4.994774   \n",
       "Ceftamin                        39.290177                    6.268188   \n",
       "Infubinol                       43.128684                    6.567243   \n",
       "Ketapril                        68.553577                    8.279709   \n",
       "Naftisol                        66.173479                    8.134708   \n",
       "Placebo                         61.168083                    7.821003   \n",
       "Propriva                        43.852013                    6.622085   \n",
       "Ramicane                        23.486704                    4.846308   \n",
       "Stelasyn                        59.450562                    7.710419   \n",
       "Zoniferol                       48.533355                    6.966589   \n",
       "\n",
       "              Tumor Volume (mm3) SEM  \n",
       "Drug Regimen                          \n",
       "Capomulin                   0.329346  \n",
       "Ceftamin                    0.469821  \n",
       "Infubinol                   0.492236  \n",
       "Ketapril                    0.603860  \n",
       "Naftisol                    0.596466  \n",
       "Placebo                     0.581331  \n",
       "Propriva                    0.544332  \n",
       "Ramicane                    0.320955  \n",
       "Stelasyn                    0.573111  \n",
       "Zoniferol                   0.516398  "
      ]
     },
     "execution_count": 7,
     "metadata": {},
     "output_type": "execute_result"
    }
   ],
   "source": [
    "# Generate a summary statistics table of mean, median, variance, standard deviation, and SEM of the tumor volume for each regimen\n",
    "\n",
    "# Use groupby and summary statistical methods to calculate the following properties of each drug regimen: \n",
    "regimen_grp_df = mouse_study_df.groupby(['Drug Regimen'])\n",
    "\n",
    "# mean, median, variance, standard deviation, and SEM of the tumor volume. \n",
    "tumor_vol_mean = regimen_grp_df[\"Tumor Volume (mm3)\"].mean()\n",
    "tumor_vol_median = regimen_grp_df[\"Tumor Volume (mm3)\"].median()\n",
    "tumor_vol_var = regimen_grp_df[\"Tumor Volume (mm3)\"].var()\n",
    "tumor_vol_std = regimen_grp_df[\"Tumor Volume (mm3)\"].std()\n",
    "tumor_vol_sem = regimen_grp_df[\"Tumor Volume (mm3)\"].sem()\n",
    "\n",
    "# Assemble the resulting series into a single summary dataframe.\n",
    "# Create variables to hold the new column names\n",
    "tumor_mean_str = \"Tumor Volume (mm3) Mean\"\n",
    "tumor_median_str = \"Tumor Volume (mm3) Median\"\n",
    "tumor_var_str = 'Tumor Volume (mm3) Variance'\n",
    "tumor_std_str = 'Tumor Volume (mm3) Std Dev'\n",
    "tumor_sem_str = 'Tumor Volume (mm3) SEM'\n",
    "\n",
    "# create a summary df by merging the tumor_vol_mean and the tumor_vol_median series and rename columns\n",
    "regimen_summ_df = pd.merge(tumor_vol_mean,tumor_vol_median, on=\"Drug Regimen\")\n",
    "regimen_summ_df = regimen_summ_df.rename(columns={\"Tumor Volume (mm3)_x\": tumor_mean_str,\n",
    "                                                  \"Tumor Volume (mm3)_y\": tumor_median_str\n",
    "                              })\n",
    "\n",
    "# Merge the summary df with the tumor_vol_var series\n",
    "regimen_summ_df = pd.merge(regimen_summ_df, tumor_vol_var, on=\"Drug Regimen\")\n",
    "regimen_summ_df = regimen_summ_df.rename(columns={\"Tumor Volume (mm3)\": tumor_var_str\n",
    "                              })\n",
    "\n",
    "# Merge the summary df with the tumor_vol_std series\n",
    "regimen_summ_df = pd.merge(regimen_summ_df, tumor_vol_std, on=\"Drug Regimen\")\n",
    "regimen_summ_df = regimen_summ_df.rename(columns={\"Tumor Volume (mm3)\": tumor_std_str\n",
    "                              })\n",
    "\n",
    "# Merge the summary df with the tumor_vol_sem series\n",
    "regimen_summ_df = pd.merge(regimen_summ_df, tumor_vol_sem, on=\"Drug Regimen\")\n",
    "regimen_summ_df = regimen_summ_df.rename(columns={\"Tumor Volume (mm3)\": tumor_sem_str\n",
    "                              })\n",
    "\n",
    "regimen_summ_df"
   ]
  },
  {
   "cell_type": "code",
   "execution_count": 8,
   "metadata": {},
   "outputs": [
    {
     "data": {
      "text/html": [
       "<div>\n",
       "<style scoped>\n",
       "    .dataframe tbody tr th:only-of-type {\n",
       "        vertical-align: middle;\n",
       "    }\n",
       "\n",
       "    .dataframe tbody tr th {\n",
       "        vertical-align: top;\n",
       "    }\n",
       "\n",
       "    .dataframe thead th {\n",
       "        text-align: right;\n",
       "    }\n",
       "</style>\n",
       "<table border=\"1\" class=\"dataframe\">\n",
       "  <thead>\n",
       "    <tr style=\"text-align: right;\">\n",
       "      <th></th>\n",
       "      <th>mean</th>\n",
       "      <th>median</th>\n",
       "      <th>var</th>\n",
       "      <th>std</th>\n",
       "      <th>sem</th>\n",
       "    </tr>\n",
       "    <tr>\n",
       "      <th>Drug Regimen</th>\n",
       "      <th></th>\n",
       "      <th></th>\n",
       "      <th></th>\n",
       "      <th></th>\n",
       "      <th></th>\n",
       "    </tr>\n",
       "  </thead>\n",
       "  <tbody>\n",
       "    <tr>\n",
       "      <th>Capomulin</th>\n",
       "      <td>40.675741</td>\n",
       "      <td>41.557809</td>\n",
       "      <td>24.947764</td>\n",
       "      <td>4.994774</td>\n",
       "      <td>0.329346</td>\n",
       "    </tr>\n",
       "    <tr>\n",
       "      <th>Ceftamin</th>\n",
       "      <td>52.591172</td>\n",
       "      <td>51.776157</td>\n",
       "      <td>39.290177</td>\n",
       "      <td>6.268188</td>\n",
       "      <td>0.469821</td>\n",
       "    </tr>\n",
       "    <tr>\n",
       "      <th>Infubinol</th>\n",
       "      <td>52.884795</td>\n",
       "      <td>51.820584</td>\n",
       "      <td>43.128684</td>\n",
       "      <td>6.567243</td>\n",
       "      <td>0.492236</td>\n",
       "    </tr>\n",
       "    <tr>\n",
       "      <th>Ketapril</th>\n",
       "      <td>55.235638</td>\n",
       "      <td>53.698743</td>\n",
       "      <td>68.553577</td>\n",
       "      <td>8.279709</td>\n",
       "      <td>0.603860</td>\n",
       "    </tr>\n",
       "    <tr>\n",
       "      <th>Naftisol</th>\n",
       "      <td>54.331565</td>\n",
       "      <td>52.509285</td>\n",
       "      <td>66.173479</td>\n",
       "      <td>8.134708</td>\n",
       "      <td>0.596466</td>\n",
       "    </tr>\n",
       "    <tr>\n",
       "      <th>Placebo</th>\n",
       "      <td>54.033581</td>\n",
       "      <td>52.288934</td>\n",
       "      <td>61.168083</td>\n",
       "      <td>7.821003</td>\n",
       "      <td>0.581331</td>\n",
       "    </tr>\n",
       "    <tr>\n",
       "      <th>Propriva</th>\n",
       "      <td>52.320930</td>\n",
       "      <td>50.446266</td>\n",
       "      <td>43.852013</td>\n",
       "      <td>6.622085</td>\n",
       "      <td>0.544332</td>\n",
       "    </tr>\n",
       "    <tr>\n",
       "      <th>Ramicane</th>\n",
       "      <td>40.216745</td>\n",
       "      <td>40.673236</td>\n",
       "      <td>23.486704</td>\n",
       "      <td>4.846308</td>\n",
       "      <td>0.320955</td>\n",
       "    </tr>\n",
       "    <tr>\n",
       "      <th>Stelasyn</th>\n",
       "      <td>54.233149</td>\n",
       "      <td>52.431737</td>\n",
       "      <td>59.450562</td>\n",
       "      <td>7.710419</td>\n",
       "      <td>0.573111</td>\n",
       "    </tr>\n",
       "    <tr>\n",
       "      <th>Zoniferol</th>\n",
       "      <td>53.236507</td>\n",
       "      <td>51.818479</td>\n",
       "      <td>48.533355</td>\n",
       "      <td>6.966589</td>\n",
       "      <td>0.516398</td>\n",
       "    </tr>\n",
       "  </tbody>\n",
       "</table>\n",
       "</div>"
      ],
      "text/plain": [
       "                   mean     median        var       std       sem\n",
       "Drug Regimen                                                     \n",
       "Capomulin     40.675741  41.557809  24.947764  4.994774  0.329346\n",
       "Ceftamin      52.591172  51.776157  39.290177  6.268188  0.469821\n",
       "Infubinol     52.884795  51.820584  43.128684  6.567243  0.492236\n",
       "Ketapril      55.235638  53.698743  68.553577  8.279709  0.603860\n",
       "Naftisol      54.331565  52.509285  66.173479  8.134708  0.596466\n",
       "Placebo       54.033581  52.288934  61.168083  7.821003  0.581331\n",
       "Propriva      52.320930  50.446266  43.852013  6.622085  0.544332\n",
       "Ramicane      40.216745  40.673236  23.486704  4.846308  0.320955\n",
       "Stelasyn      54.233149  52.431737  59.450562  7.710419  0.573111\n",
       "Zoniferol     53.236507  51.818479  48.533355  6.966589  0.516398"
      ]
     },
     "execution_count": 8,
     "metadata": {},
     "output_type": "execute_result"
    }
   ],
   "source": [
    "# Generate a summary statistics table of mean, median, variance, standard deviation, and SEM of the tumor volume for each regimen\n",
    "# Using the aggregation method, produce the same summary statistics in a single line\n",
    "\n",
    "regimen_grp_df[\"Tumor Volume (mm3)\"].aggregate(['mean', 'median','var','std','sem'])\n"
   ]
  },
  {
   "cell_type": "markdown",
   "metadata": {},
   "source": [
    "## Bar and Pie Charts"
   ]
  },
  {
   "cell_type": "code",
   "execution_count": 9,
   "metadata": {},
   "outputs": [
    {
     "data": {
      "image/png": "[encoded data removed]",
      "text/plain": [
       "<Figure size 432x288 with 1 Axes>"
      ]
     },
     "metadata": {
      "needs_background": "light"
     },
     "output_type": "display_data"
    }
   ],
   "source": [
    "# Generate a bar plot showing the total number of unique mice tested on each drug regimen using pandas.\n",
    "drug_mouse_cnt_df =  mouse_study_df.groupby('Drug Regimen')['Mouse ID'].nunique()\n",
    "\n",
    "# Create a bar chart based off of mouse_cnt_df\n",
    "drug_mouse_cnt_chart = drug_mouse_cnt_df.plot(kind='bar', color = 'blue')\n",
    "\n",
    "# Set the title, xlabel and ylabel \n",
    "plt.title(\"Number of Mice Tested by Drug Regimens\")\n",
    "plt.xlabel(\"Drug Regimens\")\n",
    "plt.ylabel(\"Number of Mice Tested\")\n",
    "\n",
    "plt.show()"
   ]
  },
  {
   "cell_type": "code",
   "execution_count": 10,
   "metadata": {},
   "outputs": [
    {
     "data": {
      "image/png": "[encoded data removed]",
      "text/plain": [
       "<Figure size 432x288 with 1 Axes>"
      ]
     },
     "metadata": {
      "needs_background": "light"
     },
     "output_type": "display_data"
    }
   ],
   "source": [
    "# Generate a bar plot showing the total number of unique mice tested on each drug regimen using pyplot.\n",
    "\n",
    "# get the distinct count of mich by regimen\n",
    "drug_mice_cnt = mouse_study_df.groupby('Drug Regimen')['Mouse ID'].nunique()\n",
    "\n",
    "# set axis \n",
    "x_axis = np.arange(len(drug_mice_cnt))\n",
    "x_labels = list(drug_mice_cnt.index)\n",
    "\n",
    "# set the ticks\n",
    "tick_locations = [x for x in x_axis]\n",
    "plt.xticks(tick_locations, x_labels, rotation=90)\n",
    "\n",
    "# plot the bar graph\n",
    "plt.bar(x_axis, drug_mice_cnt, color='blue', alpha=0.8, align=\"center\", width=.5)\n",
    "\n",
    "# set title and labels\n",
    "plt.title(\"Number of Mice Tested by Drug Regimens\")\n",
    "plt.xlabel(\"Drug Regimens\")\n",
    "plt.ylabel(\"Number of Mice Tested\")\n",
    "\n",
    "plt.show()"
   ]
  },
  {
   "cell_type": "code",
   "execution_count": 11,
   "metadata": {},
   "outputs": [
    {
     "data": {
      "image/png": "[encoded data removed]",
      "text/plain": [
       "<Figure size 432x288 with 1 Axes>"
      ]
     },
     "metadata": {},
     "output_type": "display_data"
    }
   ],
   "source": [
    "# Generate a pie plot showing the distribution of female versus male mice using pandas\n",
    "\n",
    "# get count of unique mice by gender\n",
    "gender_mouse_df =  mouse_study_df.groupby('Sex')['Mouse ID'].nunique()\n",
    "\n",
    "# declare the colors\n",
    "colors = [\"pink\",\"lightblue\"]\n",
    "\n",
    "# plot the pie chart\n",
    "fig, ax = plt.subplots()\n",
    "\n",
    "gender_mouse_chart = gender_mouse_df.plot(kind='pie', y = 'Mouse ID', colors = colors, subplots=True, figsize=(7, 4),autopct=\"%1.2f%%\", startangle=140)\n",
    "\n",
    "# set title and labels, etc\n",
    "plt.title(\"Number of Mice by Gender\")\n",
    "plt.xlabel(\"Gender\")\n",
    "plt.ylabel(\"Number of Mice\")\n",
    "ax.legend(frameon=False, loc='lower center', ncol=2)\n",
    "\n",
    "plt.show()"
   ]
  },
  {
   "cell_type": "code",
   "execution_count": 12,
   "metadata": {},
   "outputs": [
    {
     "data": {
      "text/plain": [
       "<matplotlib.legend.Legend at 0x2bbf3064c18>"
      ]
     },
     "execution_count": 12,
     "metadata": {},
     "output_type": "execute_result"
    },
    {
     "data": {
      "image/png": "[encoded data removed]",
      "text/plain": [
       "<Figure size 432x288 with 1 Axes>"
      ]
     },
     "metadata": {},
     "output_type": "display_data"
    }
   ],
   "source": [
    "# Generate a pie plot showing the distribution of female versus male mice using pyplot\n",
    "\n",
    "# get count of unique mice by gender\n",
    "gender_mice_cnt = mouse_study_df.groupby('Sex')['Mouse ID'].nunique()\n",
    "\n",
    "# declare the colors\n",
    "colors = [\"pink\",\"lightblue\"]\n",
    "\n",
    "# plot the pie chart\n",
    "fig, ax = plt.subplots()\n",
    "x_labels = list(gender_mice_cnt.index)\n",
    "\n",
    "plt.pie(gender_mice_cnt, labels=x_labels, autopct=\"%1.2f%%\", startangle=140, colors = colors)\n",
    "\n",
    "# set title and labels\n",
    "plt.title(\"Number of Mice by Gender\")\n",
    "plt.xlabel(\"Gender\")\n",
    "plt.ylabel(\"Number of Mice\")\n",
    "ax.legend(frameon=False, loc='lower center', ncol=2)"
   ]
  },
  {
   "cell_type": "markdown",
   "metadata": {},
   "source": [
    "## Quartiles, Outliers and Boxplots"
   ]
  },
  {
   "cell_type": "code",
   "execution_count": 13,
   "metadata": {
    "scrolled": true
   },
   "outputs": [],
   "source": [
    "# Calculate the final tumor volume of each mouse across four of the treatment regimens:  \n",
    "# Capomulin, Ramicane, Infubinol, and Ceftami\n",
    "\n",
    "# Start by getting the last (greatest) timepoint for each mouse\n",
    "timepoint_group_df =  mouse_study_df.groupby('Mouse ID')['Timepoint'].max()\n",
    "\n",
    "# Merge this group df with the original dataframe to get the tumor volume at the last timepoint\n",
    "last_timepoint_df = pd.merge(timepoint_group_df , mouse_study_df, how='inner', left_on=[\"Mouse ID\", \"Timepoint\"], right_on=[\"Mouse ID\",\"Timepoint\"])\n"
   ]
  },
  {
   "cell_type": "code",
   "execution_count": 14,
   "metadata": {
    "scrolled": true
   },
   "outputs": [
    {
     "name": "stdout",
     "output_type": "stream",
     "text": [
      "36.321345799999996 is an outlier in the Infubinol sample.\n"
     ]
    }
   ],
   "source": [
    "# Put treatments into a list for for loop (and later for plot labels)\n",
    "treatment_names = ['Capomulin', 'Ramicane', 'Infubinol','Ceftamin']\n",
    "\n",
    "# loop through the last timepoint andtumor volume to the list where the treatment is Capomulin, Ramicane, Infubinol, or Ceftami  \n",
    "for treatment in treatment_names:\n",
    "    tumor_volume = []\n",
    "    for index, row in last_timepoint_df.iterrows():\n",
    "        if row[2] == treatment:\n",
    "            tumor_volume.append(row[6])\n",
    "            \n",
    "    tumor = pd.Series(tumor_volume)\n",
    "    \n",
    "    # Calculate the IQR and quantitatively determine if there are any potential outliers. \n",
    "    quartiles = tumor.quantile([.25,.5,.75])\n",
    "    lowerq = quartiles[0.25]\n",
    "    upperq = quartiles[0.75]\n",
    "    iqr = upperq-lowerq\n",
    "    one_step = 1.5\n",
    "\n",
    "    # set upper and lower limites \n",
    "    lower_bound = lowerq - (one_step*iqr)\n",
    "    upper_bound = upperq + (one_step*iqr)    \n",
    "    \n",
    "    for item in tumor.iteritems():     \n",
    "        if item[1] < lower_bound:\n",
    "            print(f'{item[1]} is an outlier in the {treatment} sample.' )\n",
    "        elif item[1] > upper_bound:\n",
    "            print(f'{item[1]} is an outlier in the {treatment} sample.' )\n",
    "    "
   ]
  },
  {
   "cell_type": "code",
   "execution_count": 15,
   "metadata": {},
   "outputs": [
    {
     "data": {
      "image/png": "[encoded data removed]",
      "text/plain": [
       "<Figure size 432x288 with 1 Axes>"
      ]
     },
     "metadata": {
      "needs_background": "light"
     },
     "output_type": "display_data"
    }
   ],
   "source": [
    "# Generate a box plot of the final tumor volume of each mouse across four regimens of interest\n",
    "\n",
    "# Create a df for each regimen\n",
    "Capomulin_df = last_timepoint_df.loc[last_timepoint_df['Drug Regimen'] == 'Capomulin']\n",
    "Ramicane_df = last_timepoint_df.loc[last_timepoint_df['Drug Regimen'] == 'Ramicane']\n",
    "Infubinol_df = last_timepoint_df.loc[last_timepoint_df['Drug Regimen'] == 'Infubinol']\n",
    "Ceftamin_df = last_timepoint_df.loc[last_timepoint_df['Drug Regimen'] == 'Ceftamin']\n",
    "\n",
    "# create a list of tumor volumes series for eaach regimen\n",
    "data = [Capomulin_df['Tumor Volume (mm3)']\n",
    "        ,Ramicane_df['Tumor Volume (mm3)']\n",
    "        ,Infubinol_df['Tumor Volume (mm3)']\n",
    "        ,Ceftamin_df['Tumor Volume (mm3)']\n",
    "       ]\n",
    "\n",
    "fig, ax = plt.subplots()\n",
    "\n",
    "x_axis = np.arange(len(treatment_names))\n",
    "tick_locations = [value+1 for value in x_axis]\n",
    "plt.xticks(tick_locations, treatment_names)\n",
    "\n",
    "ax.set_title('Final Tumor Volume Accross Regimens')\n",
    "plt.xlabel(\"Drug Regimens\")\n",
    "plt.ylabel(\"Final Tumor Volume (mm3)\")\n",
    "\n",
    "# set the outliers to display as green circles\n",
    "flierprops = dict(marker='o', markerfacecolor='green', markersize=12,\n",
    "                 linestyle='none'\n",
    "                 )\n",
    "\n",
    "ax.boxplot(data, flierprops=flierprops)\n",
    "\n",
    "plt.grid()\n",
    "plt.show()"
   ]
  },
  {
   "cell_type": "markdown",
   "metadata": {},
   "source": [
    "## Line and Scatter Plots"
   ]
  },
  {
   "cell_type": "code",
   "execution_count": 16,
   "metadata": {},
   "outputs": [
    {
     "data": {
      "image/png": "[encoded data removed]",
      "text/plain": [
       "<Figure size 432x288 with 1 Axes>"
      ]
     },
     "metadata": {
      "needs_background": "light"
     },
     "output_type": "display_data"
    }
   ],
   "source": [
    "# Generate a line plot of tumor volume vs. time point for a mouse treated with Capomulin\n",
    "\n",
    "Capomulin_df = mouse_study_df.loc[mouse_study_df['Drug Regimen'] == 'Capomulin']\n",
    "\n",
    "mouse_sample = Capomulin_df.sample()\n",
    "mouse_id = list(mouse_sample['Mouse ID'])\n",
    "\n",
    "mouse_df = mouse_study_df.loc[mouse_study_df['Mouse ID'] == mouse_id[0]].sort_values(by = \"Timepoint\", ascending = True)\n",
    "\n",
    "# set variables for limits\n",
    "max_tumor = int(mouse_df.groupby('Mouse ID')['Tumor Volume (mm3)'].max())\n",
    "min_tumor = int(mouse_df.groupby('Mouse ID')['Tumor Volume (mm3)'].min())\n",
    "x_limit = int(mouse_df.groupby('Mouse ID')['Timepoint'].max())\n",
    "\n",
    "fig, ax = plt.subplots()\n",
    "\n",
    "ax.plot(mouse_df['Timepoint'],mouse_df['Tumor Volume (mm3)'], c = 'r',marker='o')\n",
    "\n",
    "# set title and labels\n",
    "plt.title(f\"Mouse {mouse_id[0]} Tumor Volume vs Time Point\")\n",
    "plt.xlabel(\"Timepoint\") \n",
    "plt.ylabel(\"Tumor Volume (mm3)\")\n",
    "plt.grid()\n",
    "plt.ylim(min_tumor-1, max_tumor+1)\n",
    "plt.xlim(0, x_limit+1)\n",
    "plt.show()"
   ]
  },
  {
   "cell_type": "code",
   "execution_count": 23,
   "metadata": {},
   "outputs": [
    {
     "data": {
      "text/plain": [
       "<matplotlib.collections.PathCollection at 0x2bbf38a17f0>"
      ]
     },
     "execution_count": 23,
     "metadata": {},
     "output_type": "execute_result"
    },
    {
     "data": {
      "image/png": "[encoded data removed]",
      "text/plain": [
       "<Figure size 432x288 with 1 Axes>"
      ]
     },
     "metadata": {
      "needs_background": "light"
     },
     "output_type": "display_data"
    }
   ],
   "source": [
    "#Generate a scatter plot of average tumor volume vs. mouse weight for the Capomulin regimen\n",
    "Capomulin_group_df = Capomulin_df.groupby(['Mouse ID'])\n",
    "\n",
    "# create series of avg tumor and weight\n",
    "avg_tumor = Capomulin_group_df['Tumor Volume (mm3)'].mean() \n",
    "avg_weight = Capomulin_group_df['Weight (g)'].mean() \n",
    "\n",
    "# set title and labels\n",
    "plt.title(\"Capomulin Avg Tumor Vol vs Avg Mouse Weight\") \n",
    "plt.xlabel(\"Avg Tumor Volume (mm3)\") \n",
    "plt.ylabel(\"Mouse Weight\")\n",
    "plt.grid()\n",
    "\n",
    "# plot the scatter plot\n",
    "plt.scatter(avg_tumor, avg_weight, marker=\"o\", facecolors=\"orange\", edgecolors=\"black\",\n",
    "            s=avg_tumor*3.5, alpha=0.5, )"
   ]
  },
  {
   "cell_type": "markdown",
   "metadata": {},
   "source": [
    "## Correlation and Regression"
   ]
  },
  {
   "cell_type": "code",
   "execution_count": 24,
   "metadata": {},
   "outputs": [
    {
     "name": "stdout",
     "output_type": "stream",
     "text": [
      "The correlation coefficient between Weight (g) and Tumor Volume (mm3) is 0.84\n",
      "The r-squared is: 0.7088568047708717\n"
     ]
    },
    {
     "data": {
      "image/png": "[encoded data removed]",
      "text/plain": [
       "<Figure size 432x288 with 1 Axes>"
      ]
     },
     "metadata": {
      "needs_background": "light"
     },
     "output_type": "display_data"
    }
   ],
   "source": [
    "# Calculate the correlation coefficient and linear regression model \n",
    "# for mouse weight and average tumor volume for the Capomulin regimen\n",
    "\n",
    "# declare tumor and weight series variables\n",
    "tumor = avg_tumor\n",
    "weight = avg_weight \n",
    "\n",
    "# calculate the correlation coefficient\n",
    "corr_cof=round(st.pearsonr(tumor,weight)[0],2)\n",
    "\n",
    "print(f'The correlation coefficient between Weight (g) and Tumor Volume (mm3) is {corr_cof}')\n",
    "\n",
    "# set title and labels, etc\n",
    "plt.title(\"Capomulin Avg Tumor Vol vs Avg Mouse Weight\") \n",
    "plt.xlabel(\"Avg Tumor Volume (mm3)\") \n",
    "plt.ylabel(\"Avg Mouse Weight\")\n",
    "plt.grid()\n",
    "\n",
    "# set the x and y values for the regression calculations\n",
    "x_values = tumor\n",
    "y_values = weight\n",
    "\n",
    "# run the regression calculations using code borrowed from  the regression.ipynb activity\n",
    "(slope, intercept, rvalue, pvalue, stderr) = linregress(x_values, y_values)\n",
    "regress_values = x_values * slope + intercept\n",
    "line_eq = \"y = \" + str(round(slope,2)) + \"x + \" + str(round(intercept,2))\n",
    "plt.scatter(x_values,y_values, marker=\"o\", facecolors=\"orange\", edgecolors=\"black\",\n",
    "            s=tumor*3.5, alpha=0.5)\n",
    "plt.plot(x_values,regress_values,\"r-\")\n",
    "print(f\"The r-squared is: {rvalue**2}\")\n",
    "plt.annotate(line_eq,(42,16),fontsize=12,color=\"red\")\n",
    "plt.show()"
   ]
  },
  {
   "cell_type": "code",
   "execution_count": null,
   "metadata": {},
   "outputs": [],
   "source": []
  }
 ],
 "metadata": {
  "anaconda-cloud": {},
  "kernelspec": {
   "display_name": "Python [conda env:.conda-PythonData]",
   "language": "python",
   "name": "conda-env-.conda-PythonData-py"
  },
  "language_info": {
   "codemirror_mode": {
    "name": "ipython",
    "version": 3
   },
   "file_extension": ".py",
   "mimetype": "text/x-python",
   "name": "python",
   "nbconvert_exporter": "python",
   "pygments_lexer": "ipython3",
   "version": "3.6.10"
  }
 },
 "nbformat": 4,
 "nbformat_minor": 4
}
